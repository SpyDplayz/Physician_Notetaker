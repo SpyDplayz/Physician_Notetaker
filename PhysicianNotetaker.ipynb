{
  "nbformat": 4,
  "nbformat_minor": 0,
  "metadata": {
    "colab": {
      "provenance": [],
      "include_colab_link": true
    },
    "kernelspec": {
      "name": "python3",
      "display_name": "Python 3"
    },
    "language_info": {
      "name": "python"
    }
  },
  "cells": [
    {
      "cell_type": "markdown",
      "metadata": {
        "id": "view-in-github",
        "colab_type": "text"
      },
      "source": [
        "<a href=\"https://colab.research.google.com/github/SpyDplayz/Physician_Notetaker/blob/master/PhysicianNotetaker.ipynb\" target=\"_parent\"><img src=\"https://colab.research.google.com/assets/colab-badge.svg\" alt=\"Open In Colab\"/></a>"
      ]
    },
    {
      "cell_type": "code",
      "source": [
        "pip install yake"
      ],
      "metadata": {
        "colab": {
          "base_uri": "https://localhost:8080/"
        },
        "id": "iOYYBVf7tCz5",
        "outputId": "3138ebdb-b72a-4f20-bd78-bca2bfcf5b2a"
      },
      "execution_count": null,
      "outputs": [
        {
          "output_type": "stream",
          "name": "stdout",
          "text": [
            "Requirement already satisfied: yake in /usr/local/lib/python3.11/dist-packages (0.4.8)\n",
            "Requirement already satisfied: tabulate in /usr/local/lib/python3.11/dist-packages (from yake) (0.9.0)\n",
            "Requirement already satisfied: click>=6.0 in /usr/local/lib/python3.11/dist-packages (from yake) (8.1.8)\n",
            "Requirement already satisfied: numpy in /usr/local/lib/python3.11/dist-packages (from yake) (1.26.4)\n",
            "Requirement already satisfied: segtok in /usr/local/lib/python3.11/dist-packages (from yake) (1.5.11)\n",
            "Requirement already satisfied: networkx in /usr/local/lib/python3.11/dist-packages (from yake) (3.4.2)\n",
            "Requirement already satisfied: jellyfish in /usr/local/lib/python3.11/dist-packages (from yake) (1.1.0)\n",
            "Requirement already satisfied: regex in /usr/local/lib/python3.11/dist-packages (from segtok->yake) (2024.11.6)\n"
          ]
        }
      ]
    },
    {
      "cell_type": "code",
      "execution_count": null,
      "metadata": {
        "colab": {
          "base_uri": "https://localhost:8080/"
        },
        "id": "2NJnMLGLrE_u",
        "outputId": "5ef79191-a7c9-4a07-eb97-3b1383f1a0b3"
      },
      "outputs": [
        {
          "output_type": "stream",
          "name": "stderr",
          "text": [
            "Device set to use cpu\n",
            "Device set to use cpu\n",
            "Your max_length is set to 50, but your input_length is only 29. Since this is a summarization task, where outputs shorter than the input are typically wanted, you might consider decreasing max_length manually, e.g. summarizer('...', max_length=14)\n"
          ]
        },
        {
          "output_type": "stream",
          "name": "stdout",
          "text": [
            "\n",
            "Extracted Medical Entities: {'Symptoms': [], 'Diagnosis': [], 'Treatment': [], 'Prognosis': []}\n"
          ]
        },
        {
          "output_type": "stream",
          "name": "stderr",
          "text": [
            "Your max_length is set to 50, but your input_length is only 29. Since this is a summarization task, where outputs shorter than the input are typically wanted, you might consider decreasing max_length manually, e.g. summarizer('...', max_length=14)\n"
          ]
        },
        {
          "output_type": "stream",
          "name": "stdout",
          "text": [
            "\n",
            "Summarized Text: Patient slipped on ice, sustaining a wrist fracture. Underwent X-ray confirmation and has been placed in a cast for four weeks.\n",
            "\n",
            "Keywords: ['Patient slipped', 'slipped on ice', 'sustaining a wrist', 'wrist fracture', 'Underwent X-ray confirmation', 'Underwent X-ray', 'Patient', 'ice', 'sustaining', 'fracture', 'X-ray confirmation', 'slipped', 'wrist', 'X-ray', 'Underwent', 'weeks', 'confirmation', 'cast']\n",
            "\n",
            "Sentiment Analysis: NEGATIVE\n",
            "\n",
            "Intent Classification: Reporting symptoms\n",
            "\n",
            "SOAP Note: {'Subjective': {'Chief_Complaint': '', 'History_of_Present_Illness': 'Patient slipped on ice, sustaining a wrist fracture. Underwent X-ray confirmation and has been placed in a cast for four weeks.'}, 'Objective': {'Physical_Exam': 'Normal range of motion, no tenderness.', 'Observations': 'Patient appears in normal health.'}, 'Assessment': {'Diagnosis': '', 'Severity': 'Mild, improving'}, 'Plan': {'Treatment': 'Physiotherapy, pain relief medications as needed.', 'Follow-Up': 'Return if symptoms worsen.'}}\n"
          ]
        }
      ],
      "source": [
        "import spacy\n",
        "import yake\n",
        "import torch\n",
        "from transformers import pipeline, AutoModelForSequenceClassification, AutoTokenizer\n",
        "from sklearn.feature_extraction.text import CountVectorizer\n",
        "from sklearn.naive_bayes import MultinomialNB\n",
        "import numpy as np\n",
        "\n",
        "# Load NLP model for NER\n",
        "nlp = spacy.load(\"en_core_web_sm\")\n",
        "\n",
        "def extract_medical_entities(text):\n",
        "    doc = nlp(text)\n",
        "    entities = {\"Symptoms\": [], \"Diagnosis\": [], \"Treatment\": [], \"Prognosis\": []}\n",
        "    for ent in doc.ents:\n",
        "        if ent.label_ in [\"SYMPTOM\", \"DIAGNOSIS\", \"TREATMENT\", \"PROGNOSIS\"]:\n",
        "            entities[ent.label_].append(ent.text)\n",
        "    return entities\n",
        "\n",
        "# Summarization Model\n",
        "summarizer = pipeline(\"summarization\", model=\"facebook/bart-large-cnn\")\n",
        "\n",
        "def summarize_text(text):\n",
        "    summary = summarizer(text, max_length=100, min_length=10, do_sample=False)\n",
        "    return summary[0]['summary_text']\n",
        "\n",
        "# Keyword Extraction\n",
        "def extract_keywords(text):\n",
        "    kw_extractor = yake.KeywordExtractor()\n",
        "    keywords = kw_extractor.extract_keywords(text)\n",
        "    return [kw[0] for kw in keywords]\n",
        "\n",
        "# Sentiment Analysis Model\n",
        "sentiment_classifier = pipeline(\"text-classification\", model=\"distilbert-base-uncased-finetuned-sst-2-english\")\n",
        "\n",
        "def analyze_sentiment(text):\n",
        "    sentiment = sentiment_classifier(text)\n",
        "    return sentiment[0]['label']\n",
        "\n",
        "# Intent Classification\n",
        "intent_labels = [\"Seeking reassurance\", \"Reporting symptoms\", \"Expressing concern\"]\n",
        "intent_texts = [\n",
        "    \"I am worried about my health\", \"I have pain in my back\", \"I need help with my diagnosis\"\n",
        "]\n",
        "vectorizer = CountVectorizer()\n",
        "X_train = vectorizer.fit_transform(intent_texts)\n",
        "y_train = np.array([2, 1, 0])\n",
        "classifier = MultinomialNB()\n",
        "classifier.fit(X_train, y_train)\n",
        "\n",
        "def classify_intent(text):\n",
        "    X_test = vectorizer.transform([text])\n",
        "    pred = classifier.predict(X_test)\n",
        "    return intent_labels[pred[0]]\n",
        "\n",
        "# SOAP Note Generation\n",
        "def generate_soap_note(text):\n",
        "    entities = extract_medical_entities(text)\n",
        "    return {\n",
        "        \"Subjective\": {\n",
        "            \"Chief_Complaint\": \", \".join(entities[\"Symptoms\"]),\n",
        "            \"History_of_Present_Illness\": summarize_text(text)\n",
        "        },\n",
        "        \"Objective\": {\n",
        "            \"Physical_Exam\": \"Normal range of motion, no tenderness.\",\n",
        "            \"Observations\": \"Patient appears in normal health.\"\n",
        "        },\n",
        "        \"Assessment\": {\n",
        "            \"Diagnosis\": \", \".join(entities[\"Diagnosis\"]),\n",
        "            \"Severity\": \"Mild, improving\"\n",
        "        },\n",
        "        \"Plan\": {\n",
        "            \"Treatment\": \"Physiotherapy, pain relief medications as needed.\",\n",
        "            \"Follow-Up\": \"Return if symptoms worsen.\"\n",
        "        }\n",
        "    }\n",
        "\n",
        "# Example Test\n",
        "text = \"Patient slipped on ice, sustaining a wrist fracture. Underwent X-ray confirmation and has been placed in a cast for four weeks.\"\n",
        "print(\"\\nExtracted Medical Entities:\", extract_medical_entities(text))\n",
        "print(\"\\nSummarized Text:\", summarize_text(text))\n",
        "print(\"\\nKeywords:\", extract_keywords(text))\n",
        "print(\"\\nSentiment Analysis:\", analyze_sentiment(text))\n",
        "print(\"\\nIntent Classification:\", classify_intent(text))\n",
        "print(\"\\nSOAP Note:\", generate_soap_note(text))\n"
      ]
    },
    {
      "cell_type": "code",
      "source": [],
      "metadata": {
        "id": "lbQNFcruxeGS"
      },
      "execution_count": null,
      "outputs": []
    }
  ]
}